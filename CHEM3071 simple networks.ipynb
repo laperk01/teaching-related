{
 "cells": [
  {
   "cell_type": "code",
   "execution_count": 1,
   "metadata": {},
   "outputs": [],
   "source": [
    "import symfit\n",
    "import numpy as np\n",
    "import matplotlib.pyplot as plt\n",
    "\n",
    "from symfit import parameters, Parameter, Variable, variables, Fit, ODEModel, D"
   ]
  },
  {
   "cell_type": "code",
   "execution_count": 29,
   "metadata": {},
   "outputs": [],
   "source": [
    "def twoProductModel(kABval=1e-2,kBCval=1e-2,conc0=50e-3,tvec=np.linspace(0, 200000, 100)):\n",
    "    # conc0 is initial concentration\n",
    "    tdata = [0,1,2]\n",
    "    # Here we describe a model with A+B->AB and B+C->BC\n",
    "    A, B, C, AB, BC, t = variables('A, B, C, AB, BC, t')\n",
    "    kAB = Parameter('kAB',kABval)  # Rate constant for formation of AB\n",
    "    kBC = Parameter('kBC',kBCval)    # rate constant for formation of BC\n",
    "    \n",
    "    # here's a list of rate expressions for each component in the mixture\n",
    "    model_dict = {\n",
    "        D(AB,t): kAB * A * B,\n",
    "        D(BC,t): kBC * B * C,\n",
    "        D(A,t): -kAB*A*B,\n",
    "        D(B,t): -(kAB*A*B + kBC*B*C),\n",
    "        D(C,t): -kBC*B*C,\n",
    "    }\n",
    "    \n",
    "    # here we define the ODE model and specify the start concentrations of each reagent\n",
    "\n",
    "    ode_model = ODEModel(model_dict, initial={t: 0.0, A:conc0, B:conc0, C:conc0, AB:0, BC:0})\n",
    "\n",
    "    # and then we fit the ODE model\n",
    "    fit = Fit(ode_model, t=tdata, A=None, B=None, AB=None, BC=None, C=None)\n",
    "    fit_result = fit.execute()\n",
    "    \n",
    "    # Generate some data\n",
    "    tvec = np.linspace(0, 100, 100)\n",
    "    ans = ode_model(t=tvec, **fit_result.params)._asdict()\n",
    "    \n",
    "    # and plot it\n",
    "    plt.plot(tvec, ans[AB], label='[AB]')\n",
    "    plt.plot(tvec, ans[BC], label='[BC]')\n",
    "    #plt.scatter(tdata, adata)\n",
    "    plt.legend()\n",
    "    plt.show()\n",
    "    \n",
    "    res = [ans[AB][-1],ans[BC][-1]]\n",
    "    resNorm = res/sum(res)\n",
    "    plt.bar([1,2],100*resNorm)\n",
    "    plt.xticks([1,2],('[AB]','[BC]'))\n",
    "    plt.ylabel('%age at eq')\n",
    "    plt.show()\n",
    "\n",
    "    # enhancement, in percent, compared to equal concentrations everywhere\n",
    "    resEnh = 100*((np.array(resNorm)) - 1/len(resNorm))/(1/len(resNorm))\n",
    "    # rounding errors can give a spurious difference: set small values to zero\n",
    "    resEnh[abs(resEnh) < 1e-5] = 0\n",
    "    if (sum(abs(resEnh)) > 0):\n",
    "        plt.bar([1,2],resEnh)\n",
    "        plt.xticks([1,2],('[AB]','[BC]'))\n",
    "        plt.ylabel('%age at eq')\n",
    "        plt.title('Enhancement / %')\n",
    "        plt.show()\n",
    "    else:\n",
    "        print(\"No enhancement compared to equal rates\")\n",
    "    \n",
    "    return ans\n",
    "\n",
    "def oneProductModel(kABval=1e-2,conc0=50e-2,tvec=np.linspace(0, 200000, 100)):\n",
    "    # Here we describe a model with A+B->AB\n",
    "    A, B, AB, t = variables('A, B, AB, t')\n",
    "    tdata = [0,1,2]\n",
    "\n",
    "    kAB = Parameter('kAB',kABval)  # Rate constant for formation of AB\n",
    "\n",
    "    # here's a list of rate expressions for each component in the mixture\n",
    "    model_dict = {\n",
    "        D(AB,t): kAB * A * B,\n",
    "        D(A,t): -kAB*A*B,\n",
    "        D(B,t): -(kAB*A*B),\n",
    "    }\n",
    "    # here we define the ODE model and specify the start concentrations of each reagent\n",
    "\n",
    "    ode_model = ODEModel(model_dict, initial={t: 0.0, A:conc0, B:conc0, AB:0, })\n",
    "\n",
    "    # and then we fit the ODE model\n",
    "    fit = Fit(ode_model, t=tdata, A=None, B=None, AB=None)\n",
    "    fit_result = fit.execute()\n",
    "\n",
    "\n",
    "    # Generate some data\n",
    "    tvec = np.linspace(0, 100, 100)\n",
    "    ans = ode_model(t=tvec, **fit_result.params)._asdict()\n",
    "    \n",
    "    # and plot it\n",
    "    plt.plot(tvec, ans[AB], label='[AB]')\n",
    "\n",
    "\n",
    "    #plt.plot(tvec, BCres, label='[BC]')\n",
    "    #plt.scatter(tdata, adata)\n",
    "    plt.legend()\n",
    "    plt.show()\n",
    "\n",
    "\n",
    "def square(kABval=1e-2,kACval=1e-2,kBDval=1e-2,kCDval=1e-2,kBCval=1e-2,kADval=1e-2,conc0=50e-3,tvec=np.linspace(0, 200000, 100)):\n",
    "    # Here we describe a model with A+B->AB\n",
    "    A, B, C, Di, AB, AC, CD, BD, AD, BC, t = variables('A, B, C, Di, AB, AC, CD, BD, AD, BC, t')\n",
    "    tdata = [0,1,2,100,1000,10000]\n",
    "\n",
    "    kAB = Parameter('kAB',kABval)  # Rate constant for formation of AB\n",
    "    kAC = Parameter('kAC',kACval)  # Rate constant for formation of AC\n",
    "    kBD = Parameter('kBD',kBDval)  # Rate constant for formation of BD\n",
    "    kCD = Parameter('kCD',kCDval)  # Rate constant for formation of CD\n",
    "    kBC = Parameter('kBC',kBCval)  # Rate constant for formation of BC  ## cross-connection\n",
    "    kAD = Parameter('kAD',kADval)  # Rate constant for formation of AD  ## cross-connection\n",
    "\n",
    "\n",
    "    # here's a list of rate expressions for each component in the mixture\n",
    "    # here I'm calling the concentration of D as'Di' to avoid confusion\n",
    "    model_dict = {\n",
    "        D(AB,t): kAB * A * B,\n",
    "        D(AC,t): kAC * A * C,\n",
    "        D(BD,t): kBD * B * Di,\n",
    "        D(CD,t): kCD * C * Di,\n",
    "        D(BC,t): kBC * B * C,\n",
    "        D(AD,t): kAD * A * Di,\n",
    "        D(A,t): -(kAB*A*B + kAC*A*C + kAD*A*Di),\n",
    "        D(B,t): -(kAB*A*B + kBD*B*Di + kBC*B*C),\n",
    "        D(C,t): -(kAC*A*C+kCD*C*Di+kBC*B*C),\n",
    "        D(Di,t): -(kBD*B*Di+kCD*C*Di+kAD*A*Di),\n",
    "    }\n",
    "    # here we define the ODE model and specify the start concentrations of each reagent\n",
    "\n",
    "    ode_model = ODEModel(model_dict, initial={t: 0.0, A:conc0, B:conc0, C:conc0, Di:conc0, AB:0, BC:0, AC:0, BD:0, CD:0, AD:0 })\n",
    "\n",
    "    # and then we fit the ODE model\n",
    "    fit = Fit(ode_model, t=tdata, A=None, B=None, C=None, Di=None, AB=None, BC=None, AC=None, BD=None, CD=None, AD=None)\n",
    "    fit_result = fit.execute()\n",
    "\n",
    "\n",
    "    # Generate some data\n",
    "    ans = ode_model(t=tvec, **fit_result.params)._asdict()\n",
    "\n",
    "    \n",
    "    # and plot it\n",
    "    plt.plot(tvec, ans[AB], label='[AB]')\n",
    "    plt.plot(tvec, ans[AC], label='[AC]')\n",
    "    plt.plot(tvec, ans[CD], label='[CD]')\n",
    "    plt.plot(tvec, ans[BC], label='[BC]')\n",
    "    plt.plot(tvec, ans[BD], label='[BD]')\n",
    "    plt.plot(tvec, ans[AD], label='[AD]')\n",
    "\n",
    "    #plt.plot(tvec, BCres, label='[BC]')\n",
    "    #plt.scatter(tdata, adata)\n",
    "    plt.legend()\n",
    "    plt.show()\n",
    "\n",
    "    res = [ans[AB][-1],ans[AC][-1],ans[CD][-1],ans[BC][-1],ans[BD][-1],ans[AD][-1]]\n",
    "    resNorm = res/sum(res)\n",
    "    plt.bar([1,2,3,4,5,6],100*resNorm)\n",
    "    plt.xticks([1,2,3,4,5,6],('[AB]','[AC]','[CD]','[BC]','[BD]','[AD]'))\n",
    "    plt.ylabel('%age at eq')\n",
    "    plt.show()\n",
    "\n",
    "    # enhancement, in percent, compared to equal concentrations everywhere\n",
    "    resEnh = 100*((np.array(resNorm)) - 1/len(resNorm))/(1/len(resNorm))\n",
    "    \n",
    "    # rounding errors can give a spurious difference: set small values to zero\n",
    "    resEnh[abs(resEnh) < 1e-5] = 0\n",
    "    if (sum(abs(resEnh)) > 0):\n",
    "        yval = [1,2,3,4,5,6]\n",
    "        plt.bar(yval,resEnh)\n",
    "        plt.xticks(yval,('[AB]','[AC]','[CD]','[BC]','[BD]','[AD]'))\n",
    "        plt.ylabel('%age at eq')\n",
    "        plt.title('Enhancement / %')\n",
    "        plt.show()\n",
    "    else:\n",
    "        print(\"No enhancement compared to equal rates\")\n",
    "        \n",
    "\n",
    "def box(kABval=1e-2,kACval=1e-2,kBDval=1e-2,kCDval=1e-2,kBCval=1e-2,kADval=1e-2,conc0=50e-3,tvec=np.linspace(0, 200000, 100)):\n",
    "    # Here we describe a model with A+B->AB\n",
    "    A, B, C, Di, AB, AC, CD, BD,  t = variables('A, B, C, Di, AB, AC, CD, BD,  t')\n",
    "    tdata = [0,1,2,100,1000,10000]\n",
    "\n",
    "    kAB = Parameter('kAB',kABval)  # Rate constant for formation of AB\n",
    "    kAC = Parameter('kAC',kACval)  # Rate constant for formation of AC\n",
    "    kBD = Parameter('kBD',kBDval)  # Rate constant for formation of BD\n",
    "    kCD = Parameter('kCD',kCDval)  # Rate constant for formation of CD\n",
    "\n",
    "\n",
    "\n",
    "    # here's a list of rate expressions for each component in the mixture\n",
    "    # here I'm calling the concentration of D as'Di' to avoid confusion\n",
    "    model_dict = {\n",
    "        D(AB,t): kAB * A * B,\n",
    "        D(AC,t): kAC * A * C,\n",
    "        D(BD,t): kBD * B * Di,\n",
    "        D(CD,t): kCD * C * Di,\n",
    "        D(A,t): -(kAB*A*B + kAC*A*C),\n",
    "        D(B,t): -(kAB*A*B + kBD*B*Di),\n",
    "        D(C,t): -(kAC*A*C+kCD*C*Di),\n",
    "        D(Di,t): -(kBD*B*Di+kCD*C*Di),\n",
    "    }\n",
    "    # here we define the ODE model and specify the start concentrations of each reagent\n",
    "\n",
    "    ode_model = ODEModel(model_dict, initial={t: 0.0, A:conc0, B:conc0, C:conc0, Di:conc0, AB:0,  AC:0, BD:0, CD:0,  })\n",
    "\n",
    "    # and then we fit the ODE model\n",
    "    fit = Fit(ode_model, t=tdata, A=None, B=None, C=None, Di=None, AB=None,  AC=None, BD=None, CD=None, )\n",
    "    fit_result = fit.execute()\n",
    "\n",
    "\n",
    "    # Generate some data\n",
    "    ans = ode_model(t=tvec, **fit_result.params)._asdict()\n",
    "\n",
    "    \n",
    "    # and plot it\n",
    "    plt.plot(tvec, ans[AB], label='[AB]')\n",
    "    plt.plot(tvec, ans[AC], label='[AC]')\n",
    "    plt.plot(tvec, ans[CD], label='[CD]')\n",
    "    plt.plot(tvec, ans[BD], label='[BD]')\n",
    "\n",
    "\n",
    "    #plt.plot(tvec, BCres, label='[BC]')\n",
    "    #plt.scatter(tdata, adata)\n",
    "    plt.legend()\n",
    "    plt.show()\n",
    "\n",
    "    res = [ans[AB][-1],ans[AC][-1],ans[CD][-1],ans[BD][-1]]\n",
    "    resNorm = res/sum(res)\n",
    "    plt.bar([1,2,3,4],100*resNorm)\n",
    "    plt.xticks([1,2,3,4],('[AB]','[AC]','[CD]','[BD]'))\n",
    "    plt.ylabel('%age at eq')\n",
    "    plt.show()\n",
    "\n",
    "    # enhancement, in percent, compared to equal concentrations everywhere\n",
    "    resEnh = 100*((np.array(resNorm)) - 1/len(resNorm))/(1/len(resNorm))\n",
    "    \n",
    "    # rounding errors can give a spurious difference: set small values to zero\n",
    "    resEnh[abs(resEnh) < 1e-5] = 0\n",
    "    if (sum(abs(resEnh)) > 0):\n",
    "        yval = [1,2,3,4]\n",
    "        plt.bar(yval,resEnh)\n",
    "        plt.xticks(yval,('[AB]','[AC]','[CD]','[BD]'))\n",
    "        plt.ylabel('%age at eq')\n",
    "        plt.title('Enhancement / %')\n",
    "        plt.show()\n",
    "    else:\n",
    "        print(\"No enhancement compared to equal rates\")\n"
   ]
  },
  {
   "cell_type": "code",
   "execution_count": 4,
   "metadata": {},
   "outputs": [],
   "source": [
    "def generalModel(rates,conc0,tvec=np.linspace(0, 200000, 100)):\n",
    "\n",
    "\n",
    "    # make a list of parameters\n",
    "    numEl = np.shape(rates)[0]\n",
    "\n",
    "    vtxt = ''\n",
    "    ptxt = ''\n",
    "    pval = []\n",
    "\n",
    "\n",
    "    model_dict = {}\n",
    "    pp  = ()\n",
    "    vv = ()\n",
    "\n",
    "\n",
    "    # first create variables for init species\n",
    "    for ii in np.arange(0,numEl):\n",
    "        var = Variable(chr(ii+65))\n",
    "        vv = vv + (var,)\n",
    "\n",
    "    t = Variable('t')\n",
    "\n",
    "    kdict = {}\n",
    "\n",
    "    # then create variables for products and rate constants (parameters)\n",
    "    ik = 0\n",
    "    for ii in np.arange(0,numEl):\n",
    "        for ij in np.arange(0,numEl):\n",
    "            if ii < ij:\n",
    "                vtxt = vtxt + ','+chr(ii+65)+chr(ij+65)\n",
    "                var = Variable(chr(ii+65)+chr(ij+65))\n",
    "                vv = vv + (var,)\n",
    "                par = Parameter('k'+chr(ii+65)+chr(ij+65),rates[ii,ij])\n",
    "                pp = pp+(par,)\n",
    "                # a dict so we can easily find rate constant indices later (this is hacky but if it works...)\n",
    "                kdict[str(ii)+str(ij)] = ik\n",
    "                kdict[str(ij)+str(ii)] = ik\n",
    "                ik = ik+1\n",
    "\n",
    "    # now try to create model\n",
    "\n",
    "    ik=0\n",
    "    for ii in np.arange(0,numEl):\n",
    "        smexpr = 0\n",
    "        for ij in np.arange(0,numEl):\n",
    "            if ii<ij:\n",
    "                model_dict[D(vv[numEl+ik],t)]= pp[kdict[str(ii)+str(ij)]]*vv[ii]*vv[ij]\n",
    "                smexpr = smexpr + pp[kdict[str(ii)+str(ij)]]*vv[ii]*vv[ij]\n",
    "                ik = ik+1\n",
    "            elif ii>ij:\n",
    "                smexpr = smexpr + pp[kdict[str(ij)+str(ii)]]*vv[ij]*vv[ii]\n",
    "\n",
    "\n",
    "        model_dict[D(vv[ii],t)] = -(smexpr)\n",
    "\n",
    "    # set initial parameters: at time 0, all concentrations of products are zero and concentration of SMs is fixed (this could be changed to allow variable concs TODO\n",
    "    initial = {t:0.0,}\n",
    "    fitargs = {}\n",
    "    for el in vv:\n",
    "        if len(el.name) == 1:\n",
    "            initial[el] = conc0\n",
    "        else:\n",
    "            initial[el] = 0\n",
    "        fitargs[el.name] = None\n",
    "\n",
    "\n",
    "    ode_model = ODEModel(model_dict, initial=initial)\n",
    "    tdata = [0,1,2]\n",
    "\n",
    "    # and then we fit the ODE model\n",
    "    fit = Fit(ode_model,**fitargs,t=tdata)\n",
    "    fit_result = fit.execute()\n",
    "\n",
    "\n",
    "    # Generate some data\n",
    "    ans = ode_model(t=tvec, **fit_result.params)._asdict()\n",
    "\n",
    "    # and plot it\n",
    "    result = []\n",
    "    legtxt = ()\n",
    "    for ii in np.arange(numEl,len(vv),1):\n",
    "        plt.plot(tvec, ans[vv[ii]], label=vv[ii].name)\n",
    "        result.append(ans[vv[ii]][-1])\n",
    "        legtxt = legtxt + (vv[ii].name,)\n",
    "    plt.legend()\n",
    "    plt.show()\n",
    "\n",
    "    resNorm = result/sum(result)\n",
    "    xpos = np.arange(1,len(resNorm)+1,1)\n",
    "    plt.bar(xpos,100*resNorm)\n",
    "    plt.xticks(xpos,legtxt)\n",
    "    plt.ylabel('%age at eq')\n",
    "    plt.show()\n",
    "\n",
    "\n",
    "    # enhancement, in percent, compared to equal concentrations everywhere\n",
    "    resEnh = 100*((np.array(resNorm)) - 1/len(resNorm))/(1/len(resNorm))\n",
    "\n",
    "    # rounding errors can give a spurious difference: set small values to zero\n",
    "    resEnh[abs(resEnh) < 1e-5] = 0\n",
    "    if (sum(abs(resEnh)) > 0):\n",
    "        plt.bar(xpos,resEnh)\n",
    "        plt.xticks(xpos,legtxt)\n",
    "        plt.ylabel('%age at eq')\n",
    "        plt.title('Enhancement / %')\n",
    "        plt.show()\n",
    "    else:\n",
    "        print(\"No enhancement compared to equal rates in a fully-connected network\")"
   ]
  },
  {
   "cell_type": "code",
   "execution_count": 8,
   "metadata": {},
   "outputs": [],
   "source": [
    "# Edit this cell do to experiments. Examples given.\n",
    "\n",
    "conc0 = 50e-3 # conc = 50 mM\n",
    "tvec = np.linspace(0, 200000, 100) # times from 0 s to 2e5 sec, with 100 intervals/timepoints. \n",
    "                                # We go all the way to 2e5 sec to ensure we're at equilibrium!\n",
    "# all default rates are 1e-2 M-1 s-1. To change a rate, just change the argument below\n",
    "\n",
    "#aa=square(kABval=1e-1,tvec=tvec)\n",
    "#aa = twoProductModel(kABval=5e-2,tvec=tvec)\n",
    "#aa = oneProductModel(kABval=100,tvec=tvec)\n"
   ]
  },
  {
   "cell_type": "code",
   "execution_count": 28,
   "metadata": {},
   "outputs": [
    {
     "data": {
      "image/png": "[encoded data removed]",
      "text/plain": [
       "<Figure size 432x288 with 1 Axes>"
      ]
     },
     "metadata": {
      "needs_background": "light"
     },
     "output_type": "display_data"
    },
    {
     "data": {
      "image/png": "[encoded data removed]",
      "text/plain": [
       "<Figure size 432x288 with 1 Axes>"
      ]
     },
     "metadata": {
      "needs_background": "light"
     },
     "output_type": "display_data"
    },
    {
     "name": "stdout",
     "output_type": "stream",
     "text": [
      "No enhancement compared to equal rates\n"
     ]
    }
   ],
   "source": [
    "aa=box(kBCval=0, kADval=0,tvec=tvec)"
   ]
  },
  {
   "cell_type": "code",
   "execution_count": null,
   "metadata": {},
   "outputs": [],
   "source": [
    "square(kABval=0.1)"
   ]
  },
  {
   "cell_type": "code",
   "execution_count": 5,
   "metadata": {},
   "outputs": [
    {
     "data": {
      "image/png": "[encoded data removed]",
      "text/plain": [
       "<Figure size 432x288 with 1 Axes>"
      ]
     },
     "metadata": {
      "needs_background": "light"
     },
     "output_type": "display_data"
    },
    {
     "data": {
      "image/png": "[encoded data removed]",
      "text/plain": [
       "<Figure size 432x288 with 1 Axes>"
      ]
     },
     "metadata": {
      "needs_background": "light"
     },
     "output_type": "display_data"
    },
    {
     "data": {
      "image/png": "[encoded data removed]",
      "text/plain": [
       "<Figure size 432x288 with 1 Axes>"
      ]
     },
     "metadata": {
      "needs_background": "light"
     },
     "output_type": "display_data"
    }
   ],
   "source": [
    "rates = np.array([[0, 1e-1, 0, 1e-1],\n",
    "               [1e-1, 0, 1e-1, 0],\n",
    "               [0, 1e-1, 0, 1e-1],\n",
    "               [1e-1, 0, 1e-1, 0]])\n",
    "\n",
    "initconc = 50e-4\n",
    "tvec=np.linspace(0, 200000, 100)\n",
    "generalModel(rates, initconc, tvec)"
   ]
  },
  {
   "cell_type": "code",
   "execution_count": 212,
   "metadata": {
    "scrolled": true
   },
   "outputs": [
    {
     "data": {
      "image/png": "[encoded data removed]",
      "text/plain": [
       "<Figure size 432x288 with 1 Axes>"
      ]
     },
     "metadata": {
      "needs_background": "light"
     },
     "output_type": "display_data"
    },
    {
     "data": {
      "image/png": "[encoded data removed]",
      "text/plain": [
       "<Figure size 432x288 with 1 Axes>"
      ]
     },
     "metadata": {
      "needs_background": "light"
     },
     "output_type": "display_data"
    },
    {
     "data": {
      "image/png": "[encoded data removed]",
      "text/plain": [
       "<Figure size 432x288 with 1 Axes>"
      ]
     },
     "metadata": {
      "needs_background": "light"
     },
     "output_type": "display_data"
    }
   ],
   "source": []
  },
  {
   "cell_type": "code",
   "execution_count": null,
   "metadata": {},
   "outputs": [],
   "source": []
  },
  {
   "cell_type": "code",
   "execution_count": null,
   "metadata": {},
   "outputs": [],
   "source": []
  }
 ],
 "metadata": {
  "kernelspec": {
   "display_name": "Python 3",
   "language": "python",
   "name": "python3"
  },
  "language_info": {
   "codemirror_mode": {
    "name": "ipython",
    "version": 3
   },
   "file_extension": ".py",
   "mimetype": "text/x-python",
   "name": "python",
   "nbconvert_exporter": "python",
   "pygments_lexer": "ipython3",
   "version": "3.7.3"
  }
 },
 "nbformat": 4,
 "nbformat_minor": 2
}
